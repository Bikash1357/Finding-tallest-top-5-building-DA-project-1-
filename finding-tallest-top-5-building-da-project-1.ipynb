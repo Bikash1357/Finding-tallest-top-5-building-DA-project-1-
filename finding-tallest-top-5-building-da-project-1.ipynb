{
 "cells": [
  {
   "cell_type": "code",
   "execution_count": 1,
   "id": "6b5ecb61",
   "metadata": {
    "_cell_guid": "b1076dfc-b9ad-4769-8c92-a6c4dae69d19",
    "_uuid": "8f2839f25d086af736a60e9eeb907d3b93b6e0e5",
    "execution": {
     "iopub.execute_input": "2024-07-15T03:36:18.111913Z",
     "iopub.status.busy": "2024-07-15T03:36:18.111542Z",
     "iopub.status.idle": "2024-07-15T03:36:18.129316Z",
     "shell.execute_reply": "2024-07-15T03:36:18.128113Z"
    },
    "papermill": {
     "duration": 0.027015,
     "end_time": "2024-07-15T03:36:18.131590",
     "exception": false,
     "start_time": "2024-07-15T03:36:18.104575",
     "status": "completed"
    },
    "tags": []
   },
   "outputs": [
    {
     "name": "stdout",
     "output_type": "stream",
     "text": [
      "['Building_Permits.csv', 'DataDictionaryBuildingPermit.xlsx']\n"
     ]
    }
   ],
   "source": [
    "## Loading the data\n",
    "\n",
    "import os\n",
    "print(os.listdir('../input/building-permit-applications-data'))"
   ]
  },
  {
   "cell_type": "code",
   "execution_count": 2,
   "id": "052daa30",
   "metadata": {
    "execution": {
     "iopub.execute_input": "2024-07-15T03:36:18.142833Z",
     "iopub.status.busy": "2024-07-15T03:36:18.142118Z",
     "iopub.status.idle": "2024-07-15T03:36:21.706667Z",
     "shell.execute_reply": "2024-07-15T03:36:21.705563Z"
    },
    "papermill": {
     "duration": 3.572885,
     "end_time": "2024-07-15T03:36:21.709318",
     "exception": false,
     "start_time": "2024-07-15T03:36:18.136433",
     "status": "completed"
    },
    "tags": []
   },
   "outputs": [
    {
     "name": "stderr",
     "output_type": "stream",
     "text": [
      "/tmp/ipykernel_18/847690978.py:2: DtypeWarning: Columns (22,32) have mixed types. Specify dtype option on import or set low_memory=False.\n",
      "  df = pd.read_csv('../input/building-permit-applications-data/Building_Permits.csv')\n"
     ]
    }
   ],
   "source": [
    "import pandas as pd\n",
    "df = pd.read_csv('../input/building-permit-applications-data/Building_Permits.csv')"
   ]
  },
  {
   "cell_type": "code",
   "execution_count": 3,
   "id": "b45b044b",
   "metadata": {
    "execution": {
     "iopub.execute_input": "2024-07-15T03:36:21.720454Z",
     "iopub.status.busy": "2024-07-15T03:36:21.720064Z",
     "iopub.status.idle": "2024-07-15T03:36:21.749100Z",
     "shell.execute_reply": "2024-07-15T03:36:21.747919Z"
    },
    "papermill": {
     "duration": 0.037657,
     "end_time": "2024-07-15T03:36:21.751820",
     "exception": false,
     "start_time": "2024-07-15T03:36:21.714163",
     "status": "completed"
    },
    "tags": []
   },
   "outputs": [
    {
     "name": "stdout",
     "output_type": "stream",
     "text": [
      "First five rosws of dataset\n",
      "  Permit Number  Permit Type            Permit Type Definition  \\\n",
      "0  201505065519            4                      sign - erect   \n",
      "1  201604195146            4                      sign - erect   \n",
      "2  201605278609            3  additions alterations or repairs   \n",
      "3  201611072166            8            otc alterations permit   \n",
      "4  201611283529            6                       demolitions   \n",
      "\n",
      "  Permit Creation Date Block  Lot  Street Number Street Number Suffix  \\\n",
      "0           05/06/2015  0326  023            140                  NaN   \n",
      "1           04/19/2016  0306  007            440                  NaN   \n",
      "2           05/27/2016  0595  203           1647                  NaN   \n",
      "3           11/07/2016  0156  011           1230                  NaN   \n",
      "4           11/28/2016  0342  001            950                  NaN   \n",
      "\n",
      "  Street Name Street Suffix  ...  Existing Construction Type  \\\n",
      "0       Ellis            St  ...                         3.0   \n",
      "1       Geary            St  ...                         3.0   \n",
      "2     Pacific            Av  ...                         1.0   \n",
      "3     Pacific            Av  ...                         5.0   \n",
      "4      Market            St  ...                         3.0   \n",
      "\n",
      "  Existing Construction Type Description Proposed Construction Type  \\\n",
      "0                          constr type 3                        NaN   \n",
      "1                          constr type 3                        NaN   \n",
      "2                          constr type 1                        1.0   \n",
      "3                         wood frame (5)                        5.0   \n",
      "4                          constr type 3                        NaN   \n",
      "\n",
      "  Proposed Construction Type Description Site Permit Supervisor District  \\\n",
      "0                                    NaN         NaN                 3.0   \n",
      "1                                    NaN         NaN                 3.0   \n",
      "2                          constr type 1         NaN                 3.0   \n",
      "3                         wood frame (5)         NaN                 3.0   \n",
      "4                                    NaN         NaN                 6.0   \n",
      "\n",
      "  Neighborhoods - Analysis Boundaries  Zipcode  \\\n",
      "0                          Tenderloin  94102.0   \n",
      "1                          Tenderloin  94102.0   \n",
      "2                        Russian Hill  94109.0   \n",
      "3                            Nob Hill  94109.0   \n",
      "4                          Tenderloin  94102.0   \n",
      "\n",
      "                                    Location      Record ID  \n",
      "0  (37.785719256680785, -122.40852313194863)  1380611233945  \n",
      "1   (37.78733980600732, -122.41063199757738)  1420164406718  \n",
      "2    (37.7946573324287, -122.42232562979227)  1424856504716  \n",
      "3   (37.79595867909168, -122.41557405519474)  1443574295566  \n",
      "4   (37.78315261897309, -122.40950883997789)   144548169992  \n",
      "\n",
      "[5 rows x 43 columns]\n"
     ]
    }
   ],
   "source": [
    "## Exploring the data\n",
    "\n",
    "print(\"First five rosws of dataset\")\n",
    "print(df.head())"
   ]
  },
  {
   "cell_type": "code",
   "execution_count": 4,
   "id": "25cb547e",
   "metadata": {
    "execution": {
     "iopub.execute_input": "2024-07-15T03:36:21.763487Z",
     "iopub.status.busy": "2024-07-15T03:36:21.763090Z",
     "iopub.status.idle": "2024-07-15T03:36:21.964277Z",
     "shell.execute_reply": "2024-07-15T03:36:21.962690Z"
    },
    "papermill": {
     "duration": 0.209687,
     "end_time": "2024-07-15T03:36:21.966679",
     "exception": false,
     "start_time": "2024-07-15T03:36:21.756992",
     "status": "completed"
    },
    "tags": []
   },
   "outputs": [
    {
     "name": "stdout",
     "output_type": "stream",
     "text": [
      "         Permit Type  Street Number          Unit  Number of Existing Stories  \\\n",
      "count  198900.000000  198900.000000  29479.000000               156116.000000   \n",
      "mean        7.522323    1121.728944     78.517182                    5.705773   \n",
      "std         1.457451    1135.768948    326.981324                    8.613455   \n",
      "min         1.000000       0.000000      0.000000                    0.000000   \n",
      "25%         8.000000     235.000000      0.000000                    2.000000   \n",
      "50%         8.000000     710.000000      0.000000                    3.000000   \n",
      "75%         8.000000    1700.000000      1.000000                    4.000000   \n",
      "max         8.000000    8400.000000   6004.000000                   78.000000   \n",
      "\n",
      "       Number of Proposed Stories  Estimated Cost  Revised Cost  \\\n",
      "count               156032.000000    1.608340e+05  1.928340e+05   \n",
      "mean                     5.745043    1.689554e+05  1.328562e+05   \n",
      "std                      8.613284    3.630386e+06  3.584903e+06   \n",
      "min                      0.000000    1.000000e+00  0.000000e+00   \n",
      "25%                      2.000000    3.300000e+03  1.000000e+00   \n",
      "50%                      3.000000    1.100000e+04  7.000000e+03   \n",
      "75%                      4.000000    3.500000e+04  2.870750e+04   \n",
      "max                     78.000000    5.379586e+08  7.805000e+08   \n",
      "\n",
      "       Existing Units  Proposed Units       Plansets  \\\n",
      "count   147362.000000   147989.000000  161591.000000   \n",
      "mean        15.666164       16.510950       1.274650   \n",
      "std         74.476321       75.220444      22.407345   \n",
      "min          0.000000        0.000000       0.000000   \n",
      "25%          1.000000        1.000000       0.000000   \n",
      "50%          1.000000        2.000000       2.000000   \n",
      "75%          4.000000        4.000000       2.000000   \n",
      "max       1907.000000     1911.000000    9000.000000   \n",
      "\n",
      "       Existing Construction Type  Proposed Construction Type  \\\n",
      "count               155534.000000               155738.000000   \n",
      "mean                     4.072878                    4.089529   \n",
      "std                      1.585756                    1.578766   \n",
      "min                      1.000000                    1.000000   \n",
      "25%                      3.000000                    3.000000   \n",
      "50%                      5.000000                    5.000000   \n",
      "75%                      5.000000                    5.000000   \n",
      "max                      5.000000                    5.000000   \n",
      "\n",
      "       Supervisor District        Zipcode     Record ID  \n",
      "count        197183.000000  197184.000000  1.989000e+05  \n",
      "mean              5.538403   94115.500558  1.162048e+12  \n",
      "std               2.887041       9.270131  4.918215e+11  \n",
      "min               1.000000   94102.000000  1.293532e+10  \n",
      "25%               3.000000   94109.000000  1.308567e+12  \n",
      "50%               6.000000   94114.000000  1.371840e+12  \n",
      "75%               8.000000   94122.000000  1.435000e+12  \n",
      "max              11.000000   94158.000000  1.498342e+12  \n"
     ]
    }
   ],
   "source": [
    "print(df.describe())"
   ]
  },
  {
   "cell_type": "code",
   "execution_count": 5,
   "id": "8d037fa2",
   "metadata": {
    "execution": {
     "iopub.execute_input": "2024-07-15T03:36:21.978755Z",
     "iopub.status.busy": "2024-07-15T03:36:21.978369Z",
     "iopub.status.idle": "2024-07-15T03:36:22.235116Z",
     "shell.execute_reply": "2024-07-15T03:36:22.234070Z"
    },
    "papermill": {
     "duration": 0.265673,
     "end_time": "2024-07-15T03:36:22.237467",
     "exception": false,
     "start_time": "2024-07-15T03:36:21.971794",
     "status": "completed"
    },
    "tags": []
   },
   "outputs": [
    {
     "name": "stdout",
     "output_type": "stream",
     "text": [
      "dataset information\n",
      "<class 'pandas.core.frame.DataFrame'>\n",
      "RangeIndex: 198900 entries, 0 to 198899\n",
      "Data columns (total 43 columns):\n",
      " #   Column                                  Non-Null Count   Dtype  \n",
      "---  ------                                  --------------   -----  \n",
      " 0   Permit Number                           198900 non-null  object \n",
      " 1   Permit Type                             198900 non-null  int64  \n",
      " 2   Permit Type Definition                  198900 non-null  object \n",
      " 3   Permit Creation Date                    198900 non-null  object \n",
      " 4   Block                                   198900 non-null  object \n",
      " 5   Lot                                     198900 non-null  object \n",
      " 6   Street Number                           198900 non-null  int64  \n",
      " 7   Street Number Suffix                    2216 non-null    object \n",
      " 8   Street Name                             198900 non-null  object \n",
      " 9   Street Suffix                           196132 non-null  object \n",
      " 10  Unit                                    29479 non-null   float64\n",
      " 11  Unit Suffix                             1961 non-null    object \n",
      " 12  Description                             198610 non-null  object \n",
      " 13  Current Status                          198900 non-null  object \n",
      " 14  Current Status Date                     198900 non-null  object \n",
      " 15  Filed Date                              198900 non-null  object \n",
      " 16  Issued Date                             183960 non-null  object \n",
      " 17  Completed Date                          97191 non-null   object \n",
      " 18  First Construction Document Date        183954 non-null  object \n",
      " 19  Structural Notification                 6922 non-null    object \n",
      " 20  Number of Existing Stories              156116 non-null  float64\n",
      " 21  Number of Proposed Stories              156032 non-null  float64\n",
      " 22  Voluntary Soft-Story Retrofit           35 non-null      object \n",
      " 23  Fire Only Permit                        18827 non-null   object \n",
      " 24  Permit Expiration Date                  147020 non-null  object \n",
      " 25  Estimated Cost                          160834 non-null  float64\n",
      " 26  Revised Cost                            192834 non-null  float64\n",
      " 27  Existing Use                            157786 non-null  object \n",
      " 28  Existing Units                          147362 non-null  float64\n",
      " 29  Proposed Use                            156461 non-null  object \n",
      " 30  Proposed Units                          147989 non-null  float64\n",
      " 31  Plansets                                161591 non-null  float64\n",
      " 32  TIDF Compliance                         2 non-null       object \n",
      " 33  Existing Construction Type              155534 non-null  float64\n",
      " 34  Existing Construction Type Description  155534 non-null  object \n",
      " 35  Proposed Construction Type              155738 non-null  float64\n",
      " 36  Proposed Construction Type Description  155738 non-null  object \n",
      " 37  Site Permit                             5359 non-null    object \n",
      " 38  Supervisor District                     197183 non-null  float64\n",
      " 39  Neighborhoods - Analysis Boundaries     197175 non-null  object \n",
      " 40  Zipcode                                 197184 non-null  float64\n",
      " 41  Location                                197200 non-null  object \n",
      " 42  Record ID                               198900 non-null  int64  \n",
      "dtypes: float64(12), int64(3), object(28)\n",
      "memory usage: 65.3+ MB\n",
      "None\n"
     ]
    }
   ],
   "source": [
    "print(\"dataset information\")\n",
    "print(df.info())"
   ]
  },
  {
   "cell_type": "code",
   "execution_count": 6,
   "id": "bf769313",
   "metadata": {
    "execution": {
     "iopub.execute_input": "2024-07-15T03:36:22.250209Z",
     "iopub.status.busy": "2024-07-15T03:36:22.249246Z",
     "iopub.status.idle": "2024-07-15T03:36:22.447900Z",
     "shell.execute_reply": "2024-07-15T03:36:22.446745Z"
    },
    "papermill": {
     "duration": 0.207311,
     "end_time": "2024-07-15T03:36:22.450101",
     "exception": false,
     "start_time": "2024-07-15T03:36:22.242790",
     "status": "completed"
    },
    "tags": []
   },
   "outputs": [
    {
     "name": "stdout",
     "output_type": "stream",
     "text": [
      "remove rows with missing \"Estimated cost\" and \"Revised Cost\" values.\n",
      "Rows before cleaning (dropping) : 198900\n",
      "Rows after cleaning : 160834\n",
      "Rows before cleaning Revised cost (dropping) : 160834\n",
      "Rows after cleaning Revised: 155373\n",
      "Rows after cleaning site permit : 3440\n"
     ]
    }
   ],
   "source": [
    "## Data cleaning part\n",
    "\n",
    "print('remove rows with missing \"Estimated cost\" and \"Revised Cost\" values.' )\n",
    "rows_before = df.shape[0]\n",
    "print(f\"Rows before cleaning (dropping) : {rows_before}\")\n",
    "df_cleaned = df.dropna(subset=['Estimated Cost'])\n",
    "rows_after = df_cleaned.shape[0]\n",
    "print(f\"Rows after cleaning : {rows_after}\")\n",
    "\n",
    "print(f\"Rows before cleaning Revised cost (dropping) : {rows_after}\")\n",
    "df_cleaned = df_cleaned.dropna(subset=('Revised Cost'))\n",
    "rows_aftercleaned = df_cleaned.shape[0]\n",
    "print(f\"Rows after cleaning Revised: {rows_aftercleaned}\")\n",
    "\n",
    "#lets drop all the rows except those which have 'site permit'\n",
    "df_cleaned=df_cleaned.dropna(subset=['Site Permit'])\n",
    "df_after_site = df_cleaned.shape[0]\n",
    "print(f\"Rows after cleaning site permit : {df_after_site}\")\n"
   ]
  },
  {
   "cell_type": "code",
   "execution_count": 7,
   "id": "7dccab90",
   "metadata": {
    "execution": {
     "iopub.execute_input": "2024-07-15T03:36:22.462903Z",
     "iopub.status.busy": "2024-07-15T03:36:22.461977Z",
     "iopub.status.idle": "2024-07-15T03:36:22.492680Z",
     "shell.execute_reply": "2024-07-15T03:36:22.491660Z"
    },
    "papermill": {
     "duration": 0.040594,
     "end_time": "2024-07-15T03:36:22.496027",
     "exception": false,
     "start_time": "2024-07-15T03:36:22.455433",
     "status": "completed"
    },
    "tags": []
   },
   "outputs": [
    {
     "name": "stdout",
     "output_type": "stream",
     "text": [
      "Filling missing value with 0\n",
      "Empty DataFrame\n",
      "Columns: [Permit Number, Permit Type, Permit Type Definition, Permit Creation Date, Block, Lot, Street Number, Street Number Suffix, Street Name, Street Suffix, Unit, Unit Suffix, Description, Current Status, Current Status Date, Filed Date, Issued Date, Completed Date, First Construction Document Date, Structural Notification, Number of Existing Stories, Number of Proposed Stories, Voluntary Soft-Story Retrofit, Fire Only Permit, Permit Expiration Date, Estimated Cost, Revised Cost, Existing Use, Existing Units, Proposed Use, Proposed Units, Plansets, TIDF Compliance, Existing Construction Type, Existing Construction Type Description, Proposed Construction Type, Proposed Construction Type Description, Site Permit, Supervisor District, Neighborhoods - Analysis Boundaries, Zipcode, Location, Record ID]\n",
      "Index: []\n",
      "\n",
      "[0 rows x 43 columns]\n"
     ]
    },
    {
     "name": "stderr",
     "output_type": "stream",
     "text": [
      "/tmp/ipykernel_18/1239172955.py:2: FutureWarning: Downcasting object dtype arrays on .fillna, .ffill, .bfill is deprecated and will change in a future version. Call result.infer_objects(copy=False) instead. To opt-in to the future behavior, set `pd.set_option('future.no_silent_downcasting', True)`\n",
      "  df_filled = df_cleaned.fillna(0)\n"
     ]
    }
   ],
   "source": [
    "print(\"Filling missing value with 0\")\n",
    "df_filled = df_cleaned.fillna(0)\n",
    "## if i filled mean value \n",
    "print(df_filled[df_filled.isnull().any(axis=1)])"
   ]
  },
  {
   "cell_type": "code",
   "execution_count": 8,
   "id": "6986fee3",
   "metadata": {
    "execution": {
     "iopub.execute_input": "2024-07-15T03:36:22.508929Z",
     "iopub.status.busy": "2024-07-15T03:36:22.508527Z",
     "iopub.status.idle": "2024-07-15T03:36:22.516730Z",
     "shell.execute_reply": "2024-07-15T03:36:22.515460Z"
    },
    "papermill": {
     "duration": 0.017859,
     "end_time": "2024-07-15T03:36:22.519539",
     "exception": false,
     "start_time": "2024-07-15T03:36:22.501680",
     "status": "completed"
    },
    "tags": []
   },
   "outputs": [
    {
     "name": "stdout",
     "output_type": "stream",
     "text": [
      "Rows before filtering permit have more than 15 stories : 3440 \n",
      "Rows after filtering permit have more than 15 stories : 13 \n"
     ]
    }
   ],
   "source": [
    "## Data filtering/cleaning part\n",
    "\n",
    " ## i want to check no. of permit have more than 15 stories , from the filtered data \n",
    "threshold_value = 15\n",
    "df_filtered = df_filled[df_filled['Number of Existing Stories'] >= threshold_value]\n",
    "df_before = df_filled.shape[0]\n",
    "df_after = df_filtered.shape[0]\n",
    "\n",
    "print(f\"Rows before filtering permit have more than 15 stories : {df_before} \")\n",
    "print(f\"Rows after filtering permit have more than 15 stories : {df_after} \")"
   ]
  },
  {
   "cell_type": "code",
   "execution_count": 9,
   "id": "4ceb8084",
   "metadata": {
    "execution": {
     "iopub.execute_input": "2024-07-15T03:36:22.533229Z",
     "iopub.status.busy": "2024-07-15T03:36:22.532261Z",
     "iopub.status.idle": "2024-07-15T03:36:22.548079Z",
     "shell.execute_reply": "2024-07-15T03:36:22.547032Z"
    },
    "papermill": {
     "duration": 0.025501,
     "end_time": "2024-07-15T03:36:22.550735",
     "exception": false,
     "start_time": "2024-07-15T03:36:22.525234",
     "status": "completed"
    },
    "tags": []
   },
   "outputs": [
    {
     "name": "stdout",
     "output_type": "stream",
     "text": [
      "      Permit Number  Permit Type            Permit Type Definition  \\\n",
      "33959  201312164258            3  additions alterations or repairs   \n",
      "45138  201404163418            3  additions alterations or repairs   \n",
      "45139  201404163418            3  additions alterations or repairs   \n",
      "55251  201407211686            3  additions alterations or repairs   \n",
      "55739  201407242073            3  additions alterations or repairs   \n",
      "\n",
      "      Permit Creation Date Block  Lot  Street Number Street Number Suffix  \\\n",
      "33959           12/16/2013  0295  016            345                    0   \n",
      "45138           04/16/2014  3719  011            181                    0   \n",
      "45139           04/16/2014  3719  010            183                    0   \n",
      "55251           07/21/2014  0263  011            101                    0   \n",
      "55739           07/24/2014  3507  040           1455                    0   \n",
      "\n",
      "      Street Name Street Suffix  ...  Existing Construction Type  \\\n",
      "33959    Stockton            St  ...                         1.0   \n",
      "45138     Fremont            St  ...                         1.0   \n",
      "45139     Fremont            St  ...                         1.0   \n",
      "55251  California            St  ...                         1.0   \n",
      "55739      Market            St  ...                         1.0   \n",
      "\n",
      "      Existing Construction Type Description Proposed Construction Type  \\\n",
      "33959                          constr type 1                        1.0   \n",
      "45138                          constr type 1                        1.0   \n",
      "45139                          constr type 1                        1.0   \n",
      "55251                          constr type 1                        1.0   \n",
      "55739                          constr type 1                        1.0   \n",
      "\n",
      "      Proposed Construction Type Description Site Permit Supervisor District  \\\n",
      "33959                          constr type 1           Y                 3.0   \n",
      "45138                          constr type 1           Y                 6.0   \n",
      "45139                          constr type 1           Y                 6.0   \n",
      "55251                          constr type 1           Y                 3.0   \n",
      "55739                          constr type 1           Y                 6.0   \n",
      "\n",
      "      Neighborhoods - Analysis Boundaries  Zipcode  \\\n",
      "33959      Financial District/South Beach  94108.0   \n",
      "45138      Financial District/South Beach  94105.0   \n",
      "45139      Financial District/South Beach  94105.0   \n",
      "55251      Financial District/South Beach  94111.0   \n",
      "55739                     South of Market  94103.0   \n",
      "\n",
      "                                        Location      Record ID  \n",
      "33959    (37.7889220191042, -122.40718205137844)  1327196412943  \n",
      "45138   (37.78980056380927, -122.39532706257731)  1338890358581  \n",
      "45139  (37.789642439733605, -122.39522078848411)  1338891164656  \n",
      "55251   (37.79294896659241, -122.39809861435491)   134947266081  \n",
      "55739    (37.77523036414975, -122.4174703200545)  1349973394002  \n",
      "\n",
      "[5 rows x 43 columns]\n"
     ]
    }
   ],
   "source": [
    "print(df_filtered.head())"
   ]
  },
  {
   "cell_type": "code",
   "execution_count": 10,
   "id": "63b1f506",
   "metadata": {
    "execution": {
     "iopub.execute_input": "2024-07-15T03:36:22.563966Z",
     "iopub.status.busy": "2024-07-15T03:36:22.563263Z",
     "iopub.status.idle": "2024-07-15T03:36:22.578565Z",
     "shell.execute_reply": "2024-07-15T03:36:22.577485Z"
    },
    "papermill": {
     "duration": 0.024392,
     "end_time": "2024-07-15T03:36:22.580929",
     "exception": false,
     "start_time": "2024-07-15T03:36:22.556537",
     "status": "completed"
    },
    "tags": []
   },
   "outputs": [
    {
     "name": "stdout",
     "output_type": "stream",
     "text": [
      "       Permit Number  Permit Type            Permit Type Definition  \\\n",
      "73517   201501226451            3  additions alterations or repairs   \n",
      "73518   201501226451            3  additions alterations or repairs   \n",
      "73519   201501226451            3  additions alterations or repairs   \n",
      "89414   201506189323            3  additions alterations or repairs   \n",
      "171897  201506058287            3  additions alterations or repairs   \n",
      "\n",
      "       Permit Creation Date Block  Lot  Street Number Street Number Suffix  \\\n",
      "73517            01/22/2015  0813  008           1390                    0   \n",
      "73518            01/22/2015  0813  009           1390                    0   \n",
      "73519            01/22/2015  0813  010           1390                    0   \n",
      "89414            06/18/2015  3701  065           1275                    0   \n",
      "171897           06/05/2015  3701  065           1275                    0   \n",
      "\n",
      "       Street Name Street Suffix  ...  Existing Construction Type  \\\n",
      "73517       Market            St  ...                         1.0   \n",
      "73518       Market            St  ...                         1.0   \n",
      "73519       Market            St  ...                         1.0   \n",
      "89414       Market            St  ...                         1.0   \n",
      "171897      Market            St  ...                         1.0   \n",
      "\n",
      "       Existing Construction Type Description Proposed Construction Type  \\\n",
      "73517                           constr type 1                        1.0   \n",
      "73518                           constr type 1                        1.0   \n",
      "73519                           constr type 1                        1.0   \n",
      "89414                           constr type 1                        1.0   \n",
      "171897                          constr type 1                        1.0   \n",
      "\n",
      "       Proposed Construction Type Description Site Permit Supervisor District  \\\n",
      "73517                           constr type 1           Y                 6.0   \n",
      "73518                           constr type 1           Y                 6.0   \n",
      "73519                           constr type 1           Y                 6.0   \n",
      "89414                           constr type 1           Y                 6.0   \n",
      "171897                          constr type 1           Y                 6.0   \n",
      "\n",
      "       Neighborhoods - Analysis Boundaries  Zipcode  \\\n",
      "73517                           Tenderloin  94102.0   \n",
      "73518                           Tenderloin  94102.0   \n",
      "73519                           Tenderloin  94102.0   \n",
      "89414                      South of Market  94103.0   \n",
      "171897                     South of Market  94103.0   \n",
      "\n",
      "                                        Location      Record ID  \n",
      "73517   (37.77714337988543, -122.41722981059696)  1368646469168  \n",
      "73518   (37.77714337988543, -122.41722981059696)  1368647469169  \n",
      "73519   (37.77714337988543, -122.41722981059696)  1368648469170  \n",
      "89414   (37.77752582760235, -122.41537603649628)  1385587458145  \n",
      "171897  (37.77752582760235, -122.41537603649628)  1384214458145  \n",
      "\n",
      "[5 rows x 43 columns]\n"
     ]
    }
   ],
   "source": [
    "print(df_filtered.tail())"
   ]
  },
  {
   "cell_type": "code",
   "execution_count": 11,
   "id": "7f5d4b45",
   "metadata": {
    "execution": {
     "iopub.execute_input": "2024-07-15T03:36:22.594334Z",
     "iopub.status.busy": "2024-07-15T03:36:22.593938Z",
     "iopub.status.idle": "2024-07-15T03:36:22.598667Z",
     "shell.execute_reply": "2024-07-15T03:36:22.597630Z"
    },
    "papermill": {
     "duration": 0.014092,
     "end_time": "2024-07-15T03:36:22.600865",
     "exception": false,
     "start_time": "2024-07-15T03:36:22.586773",
     "status": "completed"
    },
    "tags": []
   },
   "outputs": [],
   "source": [
    "import numpy as np"
   ]
  },
  {
   "cell_type": "code",
   "execution_count": 12,
   "id": "4ec053d4",
   "metadata": {
    "execution": {
     "iopub.execute_input": "2024-07-15T03:36:22.614463Z",
     "iopub.status.busy": "2024-07-15T03:36:22.614023Z",
     "iopub.status.idle": "2024-07-15T03:36:22.620527Z",
     "shell.execute_reply": "2024-07-15T03:36:22.619412Z"
    },
    "papermill": {
     "duration": 0.015894,
     "end_time": "2024-07-15T03:36:22.622705",
     "exception": false,
     "start_time": "2024-07-15T03:36:22.606811",
     "status": "completed"
    },
    "tags": []
   },
   "outputs": [],
   "source": [
    "estimated_cost = df_filtered['Estimated Cost'].to_numpy()\n",
    "revised_cost = df_filtered['Revised Cost'].to_numpy()\n",
    "existing_units= df_filtered['Existing Units'].to_numpy()\n",
    "Proposed_units = df_filtered['Proposed Units'].to_numpy()\n",
    "existing_stories = df_filtered['Number of Existing Stories'].to_numpy()\n",
    "proposed_stories = df_filtered['Number of Proposed Stories'].to_numpy()"
   ]
  },
  {
   "cell_type": "code",
   "execution_count": 13,
   "id": "b8aef613",
   "metadata": {
    "execution": {
     "iopub.execute_input": "2024-07-15T03:36:22.636536Z",
     "iopub.status.busy": "2024-07-15T03:36:22.635809Z",
     "iopub.status.idle": "2024-07-15T03:36:22.643299Z",
     "shell.execute_reply": "2024-07-15T03:36:22.642158Z"
    },
    "papermill": {
     "duration": 0.017398,
     "end_time": "2024-07-15T03:36:22.646054",
     "exception": false,
     "start_time": "2024-07-15T03:36:22.628656",
     "status": "completed"
    },
    "tags": []
   },
   "outputs": [
    {
     "name": "stdout",
     "output_type": "stream",
     "text": [
      "Revised Cost and Estimates Cost Difference :  [500000.      0.      0.      0.      0.      0.      0.      0.      0.\n",
      "      0.      0.      0.      0.]\n",
      "Total units per permit :  [23975.  3996.  3996.     0.     0.  5143.  5143. 12992. 12992. 12992.\n",
      " 12992.     0.     0.]\n",
      "New no. of total stories :  [ 70. 109. 109.  96.  46.  74.  74.  58.  58.  58.  58.  34.  34.]\n"
     ]
    }
   ],
   "source": [
    "#element wise substraction\n",
    "cost_diff = np.subtract(revised_cost,estimated_cost)\n",
    "#Element wise multiplication\n",
    "units_product = np.multiply(existing_units,existing_stories)\n",
    "#Element wise sum\n",
    "stories_sum = np.add(existing_stories,proposed_stories)\n",
    "\n",
    "print(\"Revised Cost and Estimates Cost Difference : \", cost_diff)\n",
    "print(\"Total units per permit : \", units_product)\n",
    "print(\"New no. of total stories : \", stories_sum)\n"
   ]
  },
  {
   "cell_type": "code",
   "execution_count": 14,
   "id": "f2a440b7",
   "metadata": {
    "execution": {
     "iopub.execute_input": "2024-07-15T03:36:22.660026Z",
     "iopub.status.busy": "2024-07-15T03:36:22.659020Z",
     "iopub.status.idle": "2024-07-15T03:36:22.665782Z",
     "shell.execute_reply": "2024-07-15T03:36:22.664583Z"
    },
    "papermill": {
     "duration": 0.015885,
     "end_time": "2024-07-15T03:36:22.667795",
     "exception": false,
     "start_time": "2024-07-15T03:36:22.651910",
     "status": "completed"
    },
    "tags": []
   },
   "outputs": [
    {
     "name": "stdout",
     "output_type": "stream",
     "text": [
      "Top 5 tallest buildings: [37. 37. 48. 54. 54.]\n"
     ]
    }
   ],
   "source": [
    "sorted_stories = np.sort(existing_stories)\n",
    "top_5_stories = sorted_stories[-5:]\n",
    "bottom_5_stories = sorted_stories [:5]\n",
    "\n",
    "print(\"Top 5 tallest buildings:\" , top_5_stories)"
   ]
  },
  {
   "cell_type": "code",
   "execution_count": 15,
   "id": "7f391aa0",
   "metadata": {
    "execution": {
     "iopub.execute_input": "2024-07-15T03:36:22.681220Z",
     "iopub.status.busy": "2024-07-15T03:36:22.680865Z",
     "iopub.status.idle": "2024-07-15T03:36:22.687165Z",
     "shell.execute_reply": "2024-07-15T03:36:22.685906Z"
    },
    "papermill": {
     "duration": 0.015731,
     "end_time": "2024-07-15T03:36:22.689472",
     "exception": false,
     "start_time": "2024-07-15T03:36:22.673741",
     "status": "completed"
    },
    "tags": []
   },
   "outputs": [
    {
     "name": "stdout",
     "output_type": "stream",
     "text": [
      "Mean no. of units 223.30769230769232\n",
      "Median number of existing stories 29.0\n"
     ]
    }
   ],
   "source": [
    "mean_units = np.mean(existing_units)\n",
    "median_stories = np.median(existing_stories)\n",
    "\n",
    "print(\"Mean no. of units\", mean_units)\n",
    "print(\"Median number of existing stories\", median_stories)"
   ]
  },
  {
   "cell_type": "code",
   "execution_count": 16,
   "id": "17e43ab6",
   "metadata": {
    "execution": {
     "iopub.execute_input": "2024-07-15T03:36:22.703189Z",
     "iopub.status.busy": "2024-07-15T03:36:22.702827Z",
     "iopub.status.idle": "2024-07-15T03:36:23.226763Z",
     "shell.execute_reply": "2024-07-15T03:36:23.225645Z"
    },
    "papermill": {
     "duration": 0.533522,
     "end_time": "2024-07-15T03:36:23.229019",
     "exception": false,
     "start_time": "2024-07-15T03:36:22.695497",
     "status": "completed"
    },
    "tags": []
   },
   "outputs": [
    {
     "data": {
      "image/png": "[encoded data removed]",
      "text/plain": [
       "<Figure size 640x480 with 1 Axes>"
      ]
     },
     "metadata": {},
     "output_type": "display_data"
    }
   ],
   "source": [
    "import matplotlib.pyplot as plt\n",
    "#plotting the top 5 tallest buildings\n",
    "plt.barh(range(len(top_5_stories)),top_5_stories, color = 'blue')\n",
    "plt.xlabel('Number of Existing Stories')\n",
    "plt.ylabel('Number of Tallest Building')\n",
    "plt.yticks(range(len(top_5_stories)),['Building {}'.format(i+1) for i in range(len(top_5_stories))])\n",
    "plt.grid(axis='x')\n",
    "plt.savefig('bar_plot.png', dpi= 300)"
   ]
  },
  {
   "cell_type": "code",
   "execution_count": 17,
   "id": "a0d4d88c",
   "metadata": {
    "execution": {
     "iopub.execute_input": "2024-07-15T03:36:23.244146Z",
     "iopub.status.busy": "2024-07-15T03:36:23.243751Z",
     "iopub.status.idle": "2024-07-15T03:36:23.251237Z",
     "shell.execute_reply": "2024-07-15T03:36:23.249440Z"
    },
    "papermill": {
     "duration": 0.018706,
     "end_time": "2024-07-15T03:36:23.254412",
     "exception": false,
     "start_time": "2024-07-15T03:36:23.235706",
     "status": "completed"
    },
    "tags": []
   },
   "outputs": [
    {
     "name": "stdout",
     "output_type": "stream",
     "text": [
      "['__notebook__.ipynb', 'bar_plot.png']\n"
     ]
    }
   ],
   "source": [
    "print(os.listdir('../working'))"
   ]
  }
 ],
 "metadata": {
  "kaggle": {
   "accelerator": "none",
   "dataSources": [
    {
     "datasetId": 16432,
     "sourceId": 21688,
     "sourceType": "datasetVersion"
    }
   ],
   "dockerImageVersionId": 30732,
   "isGpuEnabled": false,
   "isInternetEnabled": false,
   "language": "python",
   "sourceType": "notebook"
  },
  "kernelspec": {
   "display_name": "Python 3",
   "language": "python",
   "name": "python3"
  },
  "language_info": {
   "codemirror_mode": {
    "name": "ipython",
    "version": 3
   },
   "file_extension": ".py",
   "mimetype": "text/x-python",
   "name": "python",
   "nbconvert_exporter": "python",
   "pygments_lexer": "ipython3",
   "version": "3.10.13"
  },
  "papermill": {
   "default_parameters": {},
   "duration": 8.527648,
   "end_time": "2024-07-15T03:36:23.783179",
   "environment_variables": {},
   "exception": null,
   "input_path": "__notebook__.ipynb",
   "output_path": "__notebook__.ipynb",
   "parameters": {},
   "start_time": "2024-07-15T03:36:15.255531",
   "version": "2.5.0"
  }
 },
 "nbformat": 4,
 "nbformat_minor": 5
}
